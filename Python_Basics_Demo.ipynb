{
  "nbformat": 4,
  "nbformat_minor": 0,
  "metadata": {
    "colab": {
      "provenance": [],
      "authorship_tag": "ABX9TyOS4KMfy+pPl4kzThRbJcXM",
      "include_colab_link": true
    },
    "kernelspec": {
      "name": "python3",
      "display_name": "Python 3"
    },
    "language_info": {
      "name": "python"
    }
  },
  "cells": [
    {
      "cell_type": "markdown",
      "metadata": {
        "id": "view-in-github",
        "colab_type": "text"
      },
      "source": [
        "<a href=\"https://colab.research.google.com/github/kit09ground/project_1/blob/main/Python_Basics_Demo.ipynb\" target=\"_parent\"><img src=\"https://colab.research.google.com/assets/colab-badge.svg\" alt=\"Open In Colab\"/></a>"
      ]
    },
    {
      "cell_type": "code",
      "execution_count": null,
      "metadata": {
        "colab": {
          "base_uri": "https://localhost:8080/"
        },
        "id": "rLC9R2thsZz2",
        "outputId": "30a15b8a-09b0-400f-b0e7-2703e490642b"
      },
      "outputs": [
        {
          "output_type": "stream",
          "name": "stdout",
          "text": [
            "hi!\n"
          ]
        }
      ],
      "source": [
        "print(\"hi!\")"
      ]
    },
    {
      "cell_type": "code",
      "source": [
        "# some packages:\n",
        "import numpy as np\n",
        "import pandas as pd\n",
        "import matplotlib.pyplot as plt\n",
        "print(\"----\")\n",
        "print('packages loaded.')"
      ],
      "metadata": {
        "colab": {
          "base_uri": "https://localhost:8080/"
        },
        "id": "OV0WkxTkspmK",
        "outputId": "daecd65f-9966-44e5-a0f4-e71440abf2ff"
      },
      "execution_count": null,
      "outputs": [
        {
          "output_type": "stream",
          "name": "stdout",
          "text": [
            "----\n",
            "packages loaded.\n"
          ]
        }
      ]
    },
    {
      "cell_type": "code",
      "source": [
        "# list of all US States, provided by perplexity:\n",
        "states = [\n",
        "    \"Alabama\", \"Alaska\", \"Arizona\", \"Arkansas\", \"California\",\"Colorado\", \"Connecticut\",\n",
        "    \"Delaware\", \"Florida\", \"Georgia\",\"Hawaii\", \"Idaho\", \"Illinois\", \"Indiana\", \"Iowa\",\n",
        "    \"Kansas\", \"Kentucky\", \"Louisiana\", \"Maine\", \"Maryland\",\"Massachusetts\", \"Michigan\",\n",
        "    \"Minnesota\", \"Mississippi\",\"Missouri\", \"Montana\", \"Nebraska\", \"Nevada\", \"New Hampshire\",\n",
        "    \"New Jersey\", \"New Mexico\",\"New York\", \"North Carolina\", \"North Dakota\",\"Ohio\", \"Oklahoma\",\n",
        "    \"Oregon\",\"Pennsylvania\", \"Rhode Island\",\"South Carolina\", \"South Dakota\",\"Tennessee\", \"Texas\",\n",
        "    \"Utah\", \"Vermont\",\"Virginia\", \"Washington\",\"West Virginia\",\"Wisconsin\",\"Wyoming\"\n",
        "]\n",
        "# count chk w- f-string\n",
        "print(states)\n",
        "print(\"----\")\n",
        "print(f\"States: {len(states)}\")"
      ],
      "metadata": {
        "colab": {
          "base_uri": "https://localhost:8080/"
        },
        "id": "xe4-1qPdtC4f",
        "outputId": "b5fe19b2-ee73-497b-8db3-ccba86a7b6b4"
      },
      "execution_count": null,
      "outputs": [
        {
          "output_type": "stream",
          "name": "stdout",
          "text": [
            "['Alabama', 'Alaska', 'Arizona', 'Arkansas', 'California', 'Colorado', 'Connecticut', 'Delaware', 'Florida', 'Georgia', 'Hawaii', 'Idaho', 'Illinois', 'Indiana', 'Iowa', 'Kansas', 'Kentucky', 'Louisiana', 'Maine', 'Maryland', 'Massachusetts', 'Michigan', 'Minnesota', 'Mississippi', 'Missouri', 'Montana', 'Nebraska', 'Nevada', 'New Hampshire', 'New Jersey', 'New Mexico', 'New York', 'North Carolina', 'North Dakota', 'Ohio', 'Oklahoma', 'Oregon', 'Pennsylvania', 'Rhode Island', 'South Carolina', 'South Dakota', 'Tennessee', 'Texas', 'Utah', 'Vermont', 'Virginia', 'Washington', 'West Virginia', 'Wisconsin', 'Wyoming']\n",
            "----\n",
            "States: 50\n"
          ]
        }
      ]
    },
    {
      "cell_type": "code",
      "source": [
        "# Creating a list of the lengths of each state name\n",
        "# for loop, append() method\n",
        "# len(), type()\n",
        "\n",
        "state_length_list = []\n",
        "\n",
        "for x in states:\n",
        "    state_length_list.append(len(x))\n",
        "\n",
        "print(state_length_list)\n",
        "print(\"----\")\n",
        "print(f\"States: {len(state_length_list)}\") # states chk\n",
        "print(type(state_length_list))"
      ],
      "metadata": {
        "colab": {
          "base_uri": "https://localhost:8080/"
        },
        "id": "RT3JM24ItJ7-",
        "outputId": "c60be653-c490-4e5e-fbb2-94ee723dd8e8"
      },
      "execution_count": null,
      "outputs": [
        {
          "output_type": "stream",
          "name": "stdout",
          "text": [
            "[7, 6, 7, 8, 10, 8, 11, 8, 7, 7, 6, 5, 8, 7, 4, 6, 8, 9, 5, 8, 13, 8, 9, 11, 8, 7, 8, 6, 13, 10, 10, 8, 14, 12, 4, 8, 6, 12, 12, 14, 12, 9, 5, 4, 7, 8, 10, 13, 9, 7]\n",
            "----\n",
            "States: 50\n",
            "<class 'list'>\n"
          ]
        }
      ]
    },
    {
      "cell_type": "code",
      "source": [
        "# capitalize state names\n",
        "upper_states = []\n",
        "for x in states:\n",
        "    upper_states.append(x.upper())\n",
        "\n",
        "print(upper_states)\n",
        "print(\"----\")\n",
        "print(f\"States: {len(upper_states)}\") # states chk"
      ],
      "metadata": {
        "colab": {
          "base_uri": "https://localhost:8080/"
        },
        "id": "R8e84DtztMsj",
        "outputId": "1fb7bf18-5a37-4df4-d651-427c6960b843"
      },
      "execution_count": null,
      "outputs": [
        {
          "output_type": "stream",
          "name": "stdout",
          "text": [
            "['ALABAMA', 'ALASKA', 'ARIZONA', 'ARKANSAS', 'CALIFORNIA', 'COLORADO', 'CONNECTICUT', 'DELAWARE', 'FLORIDA', 'GEORGIA', 'HAWAII', 'IDAHO', 'ILLINOIS', 'INDIANA', 'IOWA', 'KANSAS', 'KENTUCKY', 'LOUISIANA', 'MAINE', 'MARYLAND', 'MASSACHUSETTS', 'MICHIGAN', 'MINNESOTA', 'MISSISSIPPI', 'MISSOURI', 'MONTANA', 'NEBRASKA', 'NEVADA', 'NEW HAMPSHIRE', 'NEW JERSEY', 'NEW MEXICO', 'NEW YORK', 'NORTH CAROLINA', 'NORTH DAKOTA', 'OHIO', 'OKLAHOMA', 'OREGON', 'PENNSYLVANIA', 'RHODE ISLAND', 'SOUTH CAROLINA', 'SOUTH DAKOTA', 'TENNESSEE', 'TEXAS', 'UTAH', 'VERMONT', 'VIRGINIA', 'WASHINGTON', 'WEST VIRGINIA', 'WISCONSIN', 'WYOMING']\n",
            "----\n",
            "States: 50\n"
          ]
        }
      ]
    },
    {
      "cell_type": "code",
      "source": [
        "# creating a dictionary with the zip() function using the two list create above:\n",
        "states_dict = dict(zip(upper_states, state_length_list))\n",
        "print(states_dict)\n",
        "print(\"----\")\n",
        "print(type(states_dict))\n",
        "print(f\"States: {len(states_dict)}\") # states chk"
      ],
      "metadata": {
        "colab": {
          "base_uri": "https://localhost:8080/"
        },
        "id": "8QwujLXetSRh",
        "outputId": "9ce2b85f-e5ad-4712-d52d-6bc2253ee9e9"
      },
      "execution_count": null,
      "outputs": [
        {
          "output_type": "stream",
          "name": "stdout",
          "text": [
            "{'ALABAMA': 7, 'ALASKA': 6, 'ARIZONA': 7, 'ARKANSAS': 8, 'CALIFORNIA': 10, 'COLORADO': 8, 'CONNECTICUT': 11, 'DELAWARE': 8, 'FLORIDA': 7, 'GEORGIA': 7, 'HAWAII': 6, 'IDAHO': 5, 'ILLINOIS': 8, 'INDIANA': 7, 'IOWA': 4, 'KANSAS': 6, 'KENTUCKY': 8, 'LOUISIANA': 9, 'MAINE': 5, 'MARYLAND': 8, 'MASSACHUSETTS': 13, 'MICHIGAN': 8, 'MINNESOTA': 9, 'MISSISSIPPI': 11, 'MISSOURI': 8, 'MONTANA': 7, 'NEBRASKA': 8, 'NEVADA': 6, 'NEW HAMPSHIRE': 13, 'NEW JERSEY': 10, 'NEW MEXICO': 10, 'NEW YORK': 8, 'NORTH CAROLINA': 14, 'NORTH DAKOTA': 12, 'OHIO': 4, 'OKLAHOMA': 8, 'OREGON': 6, 'PENNSYLVANIA': 12, 'RHODE ISLAND': 12, 'SOUTH CAROLINA': 14, 'SOUTH DAKOTA': 12, 'TENNESSEE': 9, 'TEXAS': 5, 'UTAH': 4, 'VERMONT': 7, 'VIRGINIA': 8, 'WASHINGTON': 10, 'WEST VIRGINIA': 13, 'WISCONSIN': 9, 'WYOMING': 7}\n",
            "----\n",
            "<class 'dict'>\n",
            "States: 50\n"
          ]
        }
      ]
    },
    {
      "cell_type": "code",
      "source": [
        "# usign matplotlib to create a histogram to show the distribuation of state char length:\n",
        "plt.hist(state_length_list, color='red', edgecolor='black', alpha=0.7)\n",
        "plt.xlabel(\"State Char Lengths\")\n",
        "plt.ylabel(\"# of States\")\n",
        "plt.title(\"State Char Lengths Distribution\")\n",
        "plt.grid(True)\n",
        "plt.show()"
      ],
      "metadata": {
        "colab": {
          "base_uri": "https://localhost:8080/",
          "height": 472
        },
        "id": "9ixLH586tXDZ",
        "outputId": "22a060ab-6b8b-43e3-ef3c-cf4bb4a1c8fe"
      },
      "execution_count": null,
      "outputs": [
        {
          "output_type": "display_data",
          "data": {
            "text/plain": [
              "<Figure size 640x480 with 1 Axes>"
            ],
            "image/png": "[encoded data removed]"
          },
          "metadata": {}
        }
      ]
    },
    {
      "cell_type": "code",
      "source": [
        "# numPy demo?\n",
        "\n",
        "np_state_lengths = np.array(state_length_list)\n",
        "print(np_state_lengths)\n",
        "\n",
        "mean = np.mean(np_state_lengths)\n",
        "median = np.median(np_state_lengths)\n",
        "std_dev = np.std(np_state_lengths)\n",
        "\n",
        "print(\"----\")\n",
        "print(f\"Mean: {mean}\")\n",
        "print(f\"Median: {median}\")\n",
        "print(f\"Standard Deviation: {round(std_dev, 2)}\") # rounded\n",
        "# Standard deviation is a statistical measure that quantifies the amount of variation or dispersion in a set of data points relative to their mean."
      ],
      "metadata": {
        "colab": {
          "base_uri": "https://localhost:8080/"
        },
        "id": "aKDm-UKntcE5",
        "outputId": "baf9a3d1-2072-4341-bb13-48f26b08477f"
      },
      "execution_count": null,
      "outputs": [
        {
          "output_type": "stream",
          "name": "stdout",
          "text": [
            "[ 7  6  7  8 10  8 11  8  7  7  6  5  8  7  4  6  8  9  5  8 13  8  9 11\n",
            "  8  7  8  6 13 10 10  8 14 12  4  8  6 12 12 14 12  9  5  4  7  8 10 13\n",
            "  9  7]\n",
            "----\n",
            "Mean: 8.44\n",
            "Median: 8.0\n",
            "Standard Deviation: 2.62\n"
          ]
        }
      ]
    },
    {
      "cell_type": "code",
      "source": [
        "# get the first 3 chars of each state?\n",
        "# upper_states\n",
        "newlist = []\n",
        "\n",
        "# a function\n",
        "def getFirst2Chars(given_list):\n",
        "    for x in given_list:\n",
        "        newlist.append(x[:2])\n",
        "    return newlist\n",
        "\n",
        "states_first2char = getFirst2Chars(upper_states)\n",
        "print(states_first2char)\n",
        "\n",
        "print(\"----\")\n",
        "print(f\"States: {len(states_first2char)}\") # states chk"
      ],
      "metadata": {
        "colab": {
          "base_uri": "https://localhost:8080/"
        },
        "id": "cYE7WhBNtg67",
        "outputId": "beec6c93-cc0d-4133-fe32-7725e8d71f1c"
      },
      "execution_count": null,
      "outputs": [
        {
          "output_type": "stream",
          "name": "stdout",
          "text": [
            "['AL', 'AL', 'AR', 'AR', 'CA', 'CO', 'CO', 'DE', 'FL', 'GE', 'HA', 'ID', 'IL', 'IN', 'IO', 'KA', 'KE', 'LO', 'MA', 'MA', 'MA', 'MI', 'MI', 'MI', 'MI', 'MO', 'NE', 'NE', 'NE', 'NE', 'NE', 'NE', 'NO', 'NO', 'OH', 'OK', 'OR', 'PE', 'RH', 'SO', 'SO', 'TE', 'TE', 'UT', 'VE', 'VI', 'WA', 'WE', 'WI', 'WY']\n",
            "----\n",
            "States: 50\n"
          ]
        }
      ]
    },
    {
      "cell_type": "code",
      "source": [
        "# same thing as above, only its a lambda:\n",
        "# upper_states\n",
        "\n",
        "states_f2_lambda = list(map(lambda x: x[:2], upper_states))\n",
        "print(states_f2_lambda)\n",
        "\n",
        "print(\"----\")\n",
        "print(f\"States: {len(states_f2_lambda)}\") # states chk"
      ],
      "metadata": {
        "colab": {
          "base_uri": "https://localhost:8080/"
        },
        "id": "trbnO3uqtkEF",
        "outputId": "dc103764-b0ef-40d3-a5e0-2dab88a3e171"
      },
      "execution_count": null,
      "outputs": [
        {
          "output_type": "stream",
          "name": "stdout",
          "text": [
            "['AL', 'AL', 'AR', 'AR', 'CA', 'CO', 'CO', 'DE', 'FL', 'GE', 'HA', 'ID', 'IL', 'IN', 'IO', 'KA', 'KE', 'LO', 'MA', 'MA', 'MA', 'MI', 'MI', 'MI', 'MI', 'MO', 'NE', 'NE', 'NE', 'NE', 'NE', 'NE', 'NO', 'NO', 'OH', 'OK', 'OR', 'PE', 'RH', 'SO', 'SO', 'TE', 'TE', 'UT', 'VE', 'VI', 'WA', 'WE', 'WI', 'WY']\n",
            "----\n",
            "States: 50\n"
          ]
        }
      ]
    },
    {
      "cell_type": "code",
      "source": [
        "# pandas dataframe?\n",
        "\n",
        "# state_name, st_upper, digraph, char_length\n",
        "# states, upper_states, states_f2_lambda, state_length_list\n",
        "\n",
        "to_dict = {'States': states, 'States (Upper)': upper_states, '1st 2 Char': states_f2_lambda, 'Char Len': state_length_list}\n",
        "states_df = pd.DataFrame(to_dict)\n",
        "\n",
        "states_df.index = range(1, 51) # sets the first col to 1-50\n",
        "\n",
        "print(states_df)"
      ],
      "metadata": {
        "colab": {
          "base_uri": "https://localhost:8080/"
        },
        "id": "ASyQGWsAtnJf",
        "outputId": "f4c536e6-4ef8-478c-9b0b-bb042214e47c"
      },
      "execution_count": null,
      "outputs": [
        {
          "output_type": "stream",
          "name": "stdout",
          "text": [
            "            States  States (Upper) 1st 2 Char  Char Len\n",
            "1          Alabama         ALABAMA         AL         7\n",
            "2           Alaska          ALASKA         AL         6\n",
            "3          Arizona         ARIZONA         AR         7\n",
            "4         Arkansas        ARKANSAS         AR         8\n",
            "5       California      CALIFORNIA         CA        10\n",
            "6         Colorado        COLORADO         CO         8\n",
            "7      Connecticut     CONNECTICUT         CO        11\n",
            "8         Delaware        DELAWARE         DE         8\n",
            "9          Florida         FLORIDA         FL         7\n",
            "10         Georgia         GEORGIA         GE         7\n",
            "11          Hawaii          HAWAII         HA         6\n",
            "12           Idaho           IDAHO         ID         5\n",
            "13        Illinois        ILLINOIS         IL         8\n",
            "14         Indiana         INDIANA         IN         7\n",
            "15            Iowa            IOWA         IO         4\n",
            "16          Kansas          KANSAS         KA         6\n",
            "17        Kentucky        KENTUCKY         KE         8\n",
            "18       Louisiana       LOUISIANA         LO         9\n",
            "19           Maine           MAINE         MA         5\n",
            "20        Maryland        MARYLAND         MA         8\n",
            "21   Massachusetts   MASSACHUSETTS         MA        13\n",
            "22        Michigan        MICHIGAN         MI         8\n",
            "23       Minnesota       MINNESOTA         MI         9\n",
            "24     Mississippi     MISSISSIPPI         MI        11\n",
            "25        Missouri        MISSOURI         MI         8\n",
            "26         Montana         MONTANA         MO         7\n",
            "27        Nebraska        NEBRASKA         NE         8\n",
            "28          Nevada          NEVADA         NE         6\n",
            "29   New Hampshire   NEW HAMPSHIRE         NE        13\n",
            "30      New Jersey      NEW JERSEY         NE        10\n",
            "31      New Mexico      NEW MEXICO         NE        10\n",
            "32        New York        NEW YORK         NE         8\n",
            "33  North Carolina  NORTH CAROLINA         NO        14\n",
            "34    North Dakota    NORTH DAKOTA         NO        12\n",
            "35            Ohio            OHIO         OH         4\n",
            "36        Oklahoma        OKLAHOMA         OK         8\n",
            "37          Oregon          OREGON         OR         6\n",
            "38    Pennsylvania    PENNSYLVANIA         PE        12\n",
            "39    Rhode Island    RHODE ISLAND         RH        12\n",
            "40  South Carolina  SOUTH CAROLINA         SO        14\n",
            "41    South Dakota    SOUTH DAKOTA         SO        12\n",
            "42       Tennessee       TENNESSEE         TE         9\n",
            "43           Texas           TEXAS         TE         5\n",
            "44            Utah            UTAH         UT         4\n",
            "45         Vermont         VERMONT         VE         7\n",
            "46        Virginia        VIRGINIA         VI         8\n",
            "47      Washington      WASHINGTON         WA        10\n",
            "48   West Virginia   WEST VIRGINIA         WE        13\n",
            "49       Wisconsin       WISCONSIN         WI         9\n",
            "50         Wyoming         WYOMING         WY         7\n"
          ]
        }
      ]
    }
  ]
}